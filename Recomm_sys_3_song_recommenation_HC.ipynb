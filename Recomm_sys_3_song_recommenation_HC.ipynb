{
 "cells": [
  {
   "cell_type": "code",
   "execution_count": null,
   "id": "0912c4ef",
   "metadata": {},
   "outputs": [],
   "source": [
    "'''\n",
    "- Project link: Spotify million song data set: https://www.kaggle.com/datasets/notshrirang/spotify-million-song-dataset\n",
    "\n",
    "In the data set song lyrics are given for nearly 57k songs. I used cosine disance to design\n",
    "recommendation system that offers songs with similar lyrics. Recommendation system\n",
    "takes any input as text however it works best when lyrics from database is given\n",
    "as input. \n",
    "'''\n",
    "\n"
   ]
  },
  {
   "cell_type": "code",
   "execution_count": 1,
   "id": "c41f7254",
   "metadata": {},
   "outputs": [],
   "source": [
    "import pandas as pd"
   ]
  },
  {
   "cell_type": "code",
   "execution_count": 2,
   "id": "923e05aa",
   "metadata": {},
   "outputs": [],
   "source": [
    "df = pd.read_csv(\"spotify_millsongdata.csv\")"
   ]
  },
  {
   "cell_type": "code",
   "execution_count": 3,
   "id": "602dc779",
   "metadata": {},
   "outputs": [],
   "source": [
    "df = df.sample(5000)"
   ]
  },
  {
   "cell_type": "code",
   "execution_count": 4,
   "id": "1e5a77a9",
   "metadata": {},
   "outputs": [],
   "source": [
    "df.drop(['link'], axis=1, inplace = True)"
   ]
  },
  {
   "cell_type": "code",
   "execution_count": 5,
   "id": "6a97b86e",
   "metadata": {},
   "outputs": [
    {
     "name": "stdout",
     "output_type": "stream",
     "text": [
      "<class 'pandas.core.frame.DataFrame'>\n",
      "Int64Index: 5000 entries, 12655 to 52377\n",
      "Data columns (total 3 columns):\n",
      " #   Column  Non-Null Count  Dtype \n",
      "---  ------  --------------  ----- \n",
      " 0   artist  5000 non-null   object\n",
      " 1   song    5000 non-null   object\n",
      " 2   text    5000 non-null   object\n",
      "dtypes: object(3)\n",
      "memory usage: 156.2+ KB\n"
     ]
    }
   ],
   "source": [
    "df.info()"
   ]
  },
  {
   "cell_type": "code",
   "execution_count": 6,
   "id": "9751e957",
   "metadata": {},
   "outputs": [
    {
     "data": {
      "text/html": [
       "<div>\n",
       "<style scoped>\n",
       "    .dataframe tbody tr th:only-of-type {\n",
       "        vertical-align: middle;\n",
       "    }\n",
       "\n",
       "    .dataframe tbody tr th {\n",
       "        vertical-align: top;\n",
       "    }\n",
       "\n",
       "    .dataframe thead th {\n",
       "        text-align: right;\n",
       "    }\n",
       "</style>\n",
       "<table border=\"1\" class=\"dataframe\">\n",
       "  <thead>\n",
       "    <tr style=\"text-align: right;\">\n",
       "      <th></th>\n",
       "      <th>12655</th>\n",
       "      <th>42538</th>\n",
       "      <th>13806</th>\n",
       "      <th>54270</th>\n",
       "      <th>15554</th>\n",
       "      <th>22150</th>\n",
       "      <th>23012</th>\n",
       "      <th>5643</th>\n",
       "      <th>5036</th>\n",
       "      <th>20540</th>\n",
       "      <th>...</th>\n",
       "      <th>40946</th>\n",
       "      <th>55615</th>\n",
       "      <th>23196</th>\n",
       "      <th>36303</th>\n",
       "      <th>42871</th>\n",
       "      <th>4871</th>\n",
       "      <th>49745</th>\n",
       "      <th>29553</th>\n",
       "      <th>23777</th>\n",
       "      <th>52377</th>\n",
       "    </tr>\n",
       "  </thead>\n",
       "  <tbody>\n",
       "    <tr>\n",
       "      <th>artist</th>\n",
       "      <td>Mc Hammer</td>\n",
       "      <td>Madonna</td>\n",
       "      <td>Neil Young</td>\n",
       "      <td>Ufo</td>\n",
       "      <td>Paul McCartney</td>\n",
       "      <td>Yoko Ono</td>\n",
       "      <td>Aerosmith</td>\n",
       "      <td>Everclear</td>\n",
       "      <td>Elvis Presley</td>\n",
       "      <td>Van Morrison</td>\n",
       "      <td>...</td>\n",
       "      <td>Kyla</td>\n",
       "      <td>Waterboys</td>\n",
       "      <td>Alabama</td>\n",
       "      <td>Howard Jones</td>\n",
       "      <td>Marillion</td>\n",
       "      <td>Elton John</td>\n",
       "      <td>R. Kelly</td>\n",
       "      <td>Depeche Mode</td>\n",
       "      <td>Alphaville</td>\n",
       "      <td>Stone Roses</td>\n",
       "    </tr>\n",
       "    <tr>\n",
       "      <th>song</th>\n",
       "      <td>Pray</td>\n",
       "      <td>Lament</td>\n",
       "      <td>Be The Rain</td>\n",
       "      <td>Sweet Little Thing</td>\n",
       "      <td>Dance Tonight</td>\n",
       "      <td>If Only</td>\n",
       "      <td>Chiquita</td>\n",
       "      <td>White Noise</td>\n",
       "      <td>Doin' The Best I Can</td>\n",
       "      <td>Carrying A Torch</td>\n",
       "      <td>...</td>\n",
       "      <td>Old Friend</td>\n",
       "      <td>Fisherman's Blues</td>\n",
       "      <td>O Little Town Of Bethlehem</td>\n",
       "      <td>You Know I Love You... Don't You?</td>\n",
       "      <td>Exile On Princes Street</td>\n",
       "      <td>Dark Diamond</td>\n",
       "      <td>Imagine That</td>\n",
       "      <td>No Disco</td>\n",
       "      <td>Heartbreaker</td>\n",
       "      <td>Tightrope</td>\n",
       "    </tr>\n",
       "    <tr>\n",
       "      <th>text</th>\n",
       "      <td>That's word,we pray(pray,pray)  \\r\\nWe got to ...</td>\n",
       "      <td>(Eva:)  \\r\\nThe choice was mine, and mine comp...</td>\n",
       "      <td>Save the planet for another day  \\r\\n(Attentio...</td>\n",
       "      <td>Just down here said hello, tell me are you try...</td>\n",
       "      <td>Everybody gonna dance tonight  \\r\\nEverybody g...</td>\n",
       "      <td>I cut my finger when you left the room  \\r\\nTh...</td>\n",
       "      <td>Ooh, on the beach at cartegena  \\r\\nShe, salty...</td>\n",
       "      <td>All the people that you know, they say you're ...</td>\n",
       "      <td>I gave my heart  \\r\\nI gave my love  \\r\\nOh ho...</td>\n",
       "      <td>I'm carryin' a torch for you  \\r\\nI'm carryin'...</td>\n",
       "      <td>...</td>\n",
       "      <td>A million times or more I thought about you  \\...</td>\n",
       "      <td>I wish I was a fisherman  \\r\\nTumblin' on the ...</td>\n",
       "      <td>O little town of Bethlehem how still we see th...</td>\n",
       "      <td>You got the socket and I got the plug  \\r\\nI a...</td>\n",
       "      <td>Due to the nature of this demo, no printed lyr...</td>\n",
       "      <td>Oh, I'm a dark diamond  \\r\\nI've turned hard a...</td>\n",
       "      <td>Close your eyes  \\r\\nNow relax your mind  \\r\\n...</td>\n",
       "      <td>I saw you in the picture  \\r\\nI saw you play t...</td>\n",
       "      <td>I feel so lonely when I'm not with you  \\r\\nIt...</td>\n",
       "      <td>You should've been an angel, it would've suite...</td>\n",
       "    </tr>\n",
       "  </tbody>\n",
       "</table>\n",
       "<p>3 rows × 5000 columns</p>\n",
       "</div>"
      ],
      "text/plain": [
       "                                                    12655  \\\n",
       "artist                                          Mc Hammer   \n",
       "song                                                 Pray   \n",
       "text    That's word,we pray(pray,pray)  \\r\\nWe got to ...   \n",
       "\n",
       "                                                    42538  \\\n",
       "artist                                            Madonna   \n",
       "song                                               Lament   \n",
       "text    (Eva:)  \\r\\nThe choice was mine, and mine comp...   \n",
       "\n",
       "                                                    13806  \\\n",
       "artist                                         Neil Young   \n",
       "song                                          Be The Rain   \n",
       "text    Save the planet for another day  \\r\\n(Attentio...   \n",
       "\n",
       "                                                    54270  \\\n",
       "artist                                                Ufo   \n",
       "song                                   Sweet Little Thing   \n",
       "text    Just down here said hello, tell me are you try...   \n",
       "\n",
       "                                                    15554  \\\n",
       "artist                                     Paul McCartney   \n",
       "song                                        Dance Tonight   \n",
       "text    Everybody gonna dance tonight  \\r\\nEverybody g...   \n",
       "\n",
       "                                                    22150  \\\n",
       "artist                                           Yoko Ono   \n",
       "song                                              If Only   \n",
       "text    I cut my finger when you left the room  \\r\\nTh...   \n",
       "\n",
       "                                                    23012  \\\n",
       "artist                                          Aerosmith   \n",
       "song                                             Chiquita   \n",
       "text    Ooh, on the beach at cartegena  \\r\\nShe, salty...   \n",
       "\n",
       "                                                    5643   \\\n",
       "artist                                          Everclear   \n",
       "song                                          White Noise   \n",
       "text    All the people that you know, they say you're ...   \n",
       "\n",
       "                                                    5036   \\\n",
       "artist                                      Elvis Presley   \n",
       "song                                 Doin' The Best I Can   \n",
       "text    I gave my heart  \\r\\nI gave my love  \\r\\nOh ho...   \n",
       "\n",
       "                                                    20540  ...  \\\n",
       "artist                                       Van Morrison  ...   \n",
       "song                                     Carrying A Torch  ...   \n",
       "text    I'm carryin' a torch for you  \\r\\nI'm carryin'...  ...   \n",
       "\n",
       "                                                    40946  \\\n",
       "artist                                               Kyla   \n",
       "song                                           Old Friend   \n",
       "text    A million times or more I thought about you  \\...   \n",
       "\n",
       "                                                    55615  \\\n",
       "artist                                          Waterboys   \n",
       "song                                    Fisherman's Blues   \n",
       "text    I wish I was a fisherman  \\r\\nTumblin' on the ...   \n",
       "\n",
       "                                                    23196  \\\n",
       "artist                                            Alabama   \n",
       "song                           O Little Town Of Bethlehem   \n",
       "text    O little town of Bethlehem how still we see th...   \n",
       "\n",
       "                                                    36303  \\\n",
       "artist                                       Howard Jones   \n",
       "song                    You Know I Love You... Don't You?   \n",
       "text    You got the socket and I got the plug  \\r\\nI a...   \n",
       "\n",
       "                                                    42871  \\\n",
       "artist                                          Marillion   \n",
       "song                              Exile On Princes Street   \n",
       "text    Due to the nature of this demo, no printed lyr...   \n",
       "\n",
       "                                                    4871   \\\n",
       "artist                                         Elton John   \n",
       "song                                         Dark Diamond   \n",
       "text    Oh, I'm a dark diamond  \\r\\nI've turned hard a...   \n",
       "\n",
       "                                                    49745  \\\n",
       "artist                                           R. Kelly   \n",
       "song                                         Imagine That   \n",
       "text    Close your eyes  \\r\\nNow relax your mind  \\r\\n...   \n",
       "\n",
       "                                                    29553  \\\n",
       "artist                                       Depeche Mode   \n",
       "song                                             No Disco   \n",
       "text    I saw you in the picture  \\r\\nI saw you play t...   \n",
       "\n",
       "                                                    23777  \\\n",
       "artist                                         Alphaville   \n",
       "song                                         Heartbreaker   \n",
       "text    I feel so lonely when I'm not with you  \\r\\nIt...   \n",
       "\n",
       "                                                    52377  \n",
       "artist                                        Stone Roses  \n",
       "song                                            Tightrope  \n",
       "text    You should've been an angel, it would've suite...  \n",
       "\n",
       "[3 rows x 5000 columns]"
      ]
     },
     "execution_count": 6,
     "metadata": {},
     "output_type": "execute_result"
    }
   ],
   "source": [
    "df.T"
   ]
  },
  {
   "cell_type": "code",
   "execution_count": 7,
   "id": "24611c4c",
   "metadata": {},
   "outputs": [],
   "source": [
    "# Text processing"
   ]
  },
  {
   "cell_type": "code",
   "execution_count": 8,
   "id": "5c243861",
   "metadata": {},
   "outputs": [
    {
     "name": "stderr",
     "output_type": "stream",
     "text": [
      "C:\\Users\\haluk\\AppData\\Local\\Temp\\ipykernel_13620\\3634558233.py:6: FutureWarning: The default value of regex will change from True to False in a future version.\n",
      "  df[\"text\"]=df[\"text\"].str.replace(\"[^\\w\\s]\",\"\")\n",
      "C:\\Users\\haluk\\AppData\\Local\\Temp\\ipykernel_13620\\3634558233.py:8: FutureWarning: The default value of regex will change from True to False in a future version.\n",
      "  df[\"text\"]=df[\"text\"].str.replace(\"\\d+\",\"\")\n"
     ]
    }
   ],
   "source": [
    "df['text'].str.lower().replace(r'^\\w\\s','')\n",
    "df['text'].str.lower().replace(r'\\n','', regex = True)\n",
    "# kucuk harfe donustur\n",
    "df[\"text\"]=df[\"text\"].str.lower()\n",
    "# noktalama isaretlerini kaldirma\n",
    "df[\"text\"]=df[\"text\"].str.replace(\"[^\\w\\s]\",\"\") \n",
    "# rakamlari kaldir\n",
    "df[\"text\"]=df[\"text\"].str.replace(\"\\d+\",\"\") \n",
    "# \\newline ve enter\\r kaldir\n",
    "df[\"text\"]=df[\"text\"].str.replace(\"\\n\",\" \").replace(\"\\r\",\"\") \n",
    "# fazladan bosluklari azalt\n",
    "df[\"text\"]=df[\"text\"].str.replace(\"  \",\" \")"
   ]
  },
  {
   "cell_type": "code",
   "execution_count": 9,
   "id": "d42539a0",
   "metadata": {},
   "outputs": [],
   "source": [
    "# strip out html tags\n",
    "import html\n",
    "def del_html(text):\n",
    "   return html.unescape(text)\n",
    "\n",
    "# Apply to multiple columns\n",
    "df['text'] = df['text'].apply(del_html)"
   ]
  },
  {
   "cell_type": "code",
   "execution_count": 10,
   "id": "857fd550",
   "metadata": {},
   "outputs": [],
   "source": [
    "import nltk\n",
    "from nltk.stem.porter import PorterStemmer\n",
    "from textblob import TextBlob\n",
    "stemmer = PorterStemmer()"
   ]
  },
  {
   "cell_type": "code",
   "execution_count": 11,
   "id": "e8466cd8",
   "metadata": {},
   "outputs": [],
   "source": [
    "# correct and tokenize the text \n",
    "def token(text):\n",
    "    \n",
    "    #blob = TextBlob(text)\n",
    "    #text = str(blob.correct())\n",
    "    token = nltk.word_tokenize(text)\n",
    "    tokens = [stemmer.stem(w) for w in token]\n",
    "    return \" \".join(tokens)"
   ]
  },
  {
   "cell_type": "code",
   "execution_count": 12,
   "id": "10ca3496",
   "metadata": {},
   "outputs": [],
   "source": [
    "df['text'] = df['text'].apply(lambda x :token(x))"
   ]
  },
  {
   "cell_type": "code",
   "execution_count": 13,
   "id": "d9ffe0ce",
   "metadata": {},
   "outputs": [],
   "source": [
    "#!pip install textblob"
   ]
  },
  {
   "cell_type": "code",
   "execution_count": 14,
   "id": "95ab52a1",
   "metadata": {},
   "outputs": [],
   "source": [
    "from nltk.corpus import stopwords\n",
    "\n",
    "stop_words = set(stopwords.words('english'))\n",
    "\n",
    "# Define a function to remove stop words from a string\n",
    "def remove_stop_words(text):\n",
    "\n",
    "    words = text.split()\n",
    "    filtered_words = [word for word in words if word.lower() not in stop_words]\n",
    "    filtered_text = \" \".join(filtered_words)\n",
    "    return filtered_text\n",
    "\n",
    "# Apply the function to the pandas column\n",
    "df['text_sw'] = df['text'].apply(remove_stop_words)"
   ]
  },
  {
   "cell_type": "code",
   "execution_count": 15,
   "id": "96352b6b",
   "metadata": {},
   "outputs": [
    {
     "data": {
      "text/plain": [
       "12655    wordw praypraypray got pray make today said pr...\n",
       "42538    eva choic wa mine mine complet could ani prize...\n",
       "13806    save planet anoth day attent shopper buy consc...\n",
       "54270    said hello tell tri get said hey honey dont ne...\n",
       "15554    everybodi gon na danc tonight everybodi gon na...\n",
       "                               ...                        \n",
       "4871     oh im dark diamond ive turn hard cold onc wa j...\n",
       "49745    close eye relax mind want pictur far far away ...\n",
       "29553    saw pictur saw play part thi aint disco thousa...\n",
       "23777    feel lone im shame im spend time without yet f...\n",
       "52377    shouldv angel wouldv suit goldleaf tryptic ang...\n",
       "Name: text_sw, Length: 5000, dtype: object"
      ]
     },
     "execution_count": 15,
     "metadata": {},
     "output_type": "execute_result"
    }
   ],
   "source": [
    "df['text_sw']"
   ]
  },
  {
   "cell_type": "code",
   "execution_count": 16,
   "id": "94a351e6",
   "metadata": {},
   "outputs": [],
   "source": [
    "from sklearn.feature_extraction.text import TfidfTransformer\n",
    "from sklearn.metrics.pairwise import cosine_similarity"
   ]
  },
  {
   "cell_type": "code",
   "execution_count": 17,
   "id": "ffcec22e",
   "metadata": {},
   "outputs": [],
   "source": [
    "from sklearn.feature_extraction.text import TfidfVectorizer\n",
    "vectorizer = TfidfVectorizer(max_features=10000, stop_words=\"english\")\n",
    "x =vectorizer.fit_transform(df['text_sw'])"
   ]
  },
  {
   "cell_type": "code",
   "execution_count": 18,
   "id": "804f2d12",
   "metadata": {},
   "outputs": [
    {
     "data": {
      "text/plain": [
       "(5000, 10000)"
      ]
     },
     "execution_count": 18,
     "metadata": {},
     "output_type": "execute_result"
    }
   ],
   "source": [
    "x.shape"
   ]
  },
  {
   "cell_type": "code",
   "execution_count": 19,
   "id": "0099f9d1",
   "metadata": {},
   "outputs": [],
   "source": [
    "similarity = cosine_similarity(x)"
   ]
  },
  {
   "cell_type": "code",
   "execution_count": 20,
   "id": "817e8bec",
   "metadata": {},
   "outputs": [
    {
     "data": {
      "text/plain": [
       "array([0.00350931, 1.        , 0.07788464, ..., 0.00903412, 0.03834438,\n",
       "       0.03572282])"
      ]
     },
     "execution_count": 20,
     "metadata": {},
     "output_type": "execute_result"
    }
   ],
   "source": [
    "similarity[1]"
   ]
  },
  {
   "cell_type": "code",
   "execution_count": 21,
   "id": "c1041a11",
   "metadata": {},
   "outputs": [],
   "source": [
    "df_trk = df[['text_sw']]"
   ]
  },
  {
   "cell_type": "code",
   "execution_count": 22,
   "id": "c31265a5",
   "metadata": {},
   "outputs": [
    {
     "data": {
      "text/html": [
       "<div>\n",
       "<style scoped>\n",
       "    .dataframe tbody tr th:only-of-type {\n",
       "        vertical-align: middle;\n",
       "    }\n",
       "\n",
       "    .dataframe tbody tr th {\n",
       "        vertical-align: top;\n",
       "    }\n",
       "\n",
       "    .dataframe thead th {\n",
       "        text-align: right;\n",
       "    }\n",
       "</style>\n",
       "<table border=\"1\" class=\"dataframe\">\n",
       "  <thead>\n",
       "    <tr style=\"text-align: right;\">\n",
       "      <th></th>\n",
       "      <th>text_sw</th>\n",
       "    </tr>\n",
       "  </thead>\n",
       "  <tbody>\n",
       "    <tr>\n",
       "      <th>12655</th>\n",
       "      <td>wordw praypraypray got pray make today said pr...</td>\n",
       "    </tr>\n",
       "    <tr>\n",
       "      <th>42538</th>\n",
       "      <td>eva choic wa mine mine complet could ani prize...</td>\n",
       "    </tr>\n",
       "    <tr>\n",
       "      <th>13806</th>\n",
       "      <td>save planet anoth day attent shopper buy consc...</td>\n",
       "    </tr>\n",
       "    <tr>\n",
       "      <th>54270</th>\n",
       "      <td>said hello tell tri get said hey honey dont ne...</td>\n",
       "    </tr>\n",
       "    <tr>\n",
       "      <th>15554</th>\n",
       "      <td>everybodi gon na danc tonight everybodi gon na...</td>\n",
       "    </tr>\n",
       "    <tr>\n",
       "      <th>...</th>\n",
       "      <td>...</td>\n",
       "    </tr>\n",
       "    <tr>\n",
       "      <th>4871</th>\n",
       "      <td>oh im dark diamond ive turn hard cold onc wa j...</td>\n",
       "    </tr>\n",
       "    <tr>\n",
       "      <th>49745</th>\n",
       "      <td>close eye relax mind want pictur far far away ...</td>\n",
       "    </tr>\n",
       "    <tr>\n",
       "      <th>29553</th>\n",
       "      <td>saw pictur saw play part thi aint disco thousa...</td>\n",
       "    </tr>\n",
       "    <tr>\n",
       "      <th>23777</th>\n",
       "      <td>feel lone im shame im spend time without yet f...</td>\n",
       "    </tr>\n",
       "    <tr>\n",
       "      <th>52377</th>\n",
       "      <td>shouldv angel wouldv suit goldleaf tryptic ang...</td>\n",
       "    </tr>\n",
       "  </tbody>\n",
       "</table>\n",
       "<p>5000 rows × 1 columns</p>\n",
       "</div>"
      ],
      "text/plain": [
       "                                                 text_sw\n",
       "12655  wordw praypraypray got pray make today said pr...\n",
       "42538  eva choic wa mine mine complet could ani prize...\n",
       "13806  save planet anoth day attent shopper buy consc...\n",
       "54270  said hello tell tri get said hey honey dont ne...\n",
       "15554  everybodi gon na danc tonight everybodi gon na...\n",
       "...                                                  ...\n",
       "4871   oh im dark diamond ive turn hard cold onc wa j...\n",
       "49745  close eye relax mind want pictur far far away ...\n",
       "29553  saw pictur saw play part thi aint disco thousa...\n",
       "23777  feel lone im shame im spend time without yet f...\n",
       "52377  shouldv angel wouldv suit goldleaf tryptic ang...\n",
       "\n",
       "[5000 rows x 1 columns]"
      ]
     },
     "execution_count": 22,
     "metadata": {},
     "output_type": "execute_result"
    }
   ],
   "source": [
    "df_trk"
   ]
  },
  {
   "cell_type": "code",
   "execution_count": 23,
   "id": "4d2ebba4",
   "metadata": {},
   "outputs": [],
   "source": [
    "def recommend_track(input_lyrics) :\n",
    "    \n",
    "    # tokenize input text\n",
    "    input_lyrics = token(input_lyrics)\n",
    "    \n",
    "    # remove stop words\n",
    "    input_lyrics= remove_stop_words(input_lyrics)\n",
    "    #print(input_lyrics)\n",
    "    text_row = {'text_sw':input_lyrics}\n",
    "    \n",
    "    len_trk = len(df['text_sw'])\n",
    "    df_trk = pd.DataFrame({'text_sw': range(len_trk)})\n",
    "        \n",
    "    df_trk = df[['text_sw']]\n",
    "    \n",
    "    #print(df_trk.shape)\n",
    "    len_trk = len(df_trk)\n",
    "    # add lyrics tokens as if new song lycrics \n",
    "    df_trk.loc[len_trk] = text_row;\n",
    "    #print(df_trk.shape)\n",
    "    \n",
    "    x =vectorizer.fit_transform(df_trk['text_sw'])\n",
    "    similarity_wInput = cosine_similarity(x)\n",
    "    \n",
    "    indexes = sorted(list ( enumerate(similarity_wInput[len_trk]) ),reverse = True,   key = lambda x:x[1] )[1:11]\n",
    "    \n",
    "    for i in indexes :\n",
    "        track_indx, similarity_val = i;\n",
    "        print(\"Cos-dist: {} {} \\t{}\".format(round(similarity_val, 4),df['artist'].iloc[track_indx] , df['song'].iloc[track_indx] ) )\n",
    "        \n",
    "    #print(new_similarity.shape)\n",
    "    "
   ]
  },
  {
   "cell_type": "code",
   "execution_count": 24,
   "id": "9999c5be",
   "metadata": {},
   "outputs": [
    {
     "name": "stderr",
     "output_type": "stream",
     "text": [
      "C:\\Users\\haluk\\AppData\\Local\\Temp\\ipykernel_13620\\4053715263.py:19: SettingWithCopyWarning: \n",
      "A value is trying to be set on a copy of a slice from a DataFrame\n",
      "\n",
      "See the caveats in the documentation: https://pandas.pydata.org/pandas-docs/stable/user_guide/indexing.html#returning-a-view-versus-a-copy\n",
      "  df_trk.loc[len_trk] = text_row;\n"
     ]
    },
    {
     "name": "stdout",
     "output_type": "stream",
     "text": [
      "Cos-dist: 0.7377 Britney Spears \tDon't Let Me Be The Last To Know\n",
      "Cos-dist: 0.455 Cliff Richard \tNever Let Go\n",
      "Cos-dist: 0.412 Steve Miller Band \tLittle Girl\n",
      "Cos-dist: 0.373 Oasis \tAll You Need Is Love\n",
      "Cos-dist: 0.3714 Foreigner \tDon't Let Go\n",
      "Cos-dist: 0.3451 Omd \tApollo\n",
      "Cos-dist: 0.3421 Ten Years After \tLet The Sky Fall\n",
      "Cos-dist: 0.3388 Fatboy Slim \tEverybody Needs A 303\n",
      "Cos-dist: 0.3382 Dean Martin \tLet Me Go Lover\n",
      "Cos-dist: 0.3368 Norah Jones \tI Wouldn't Need You\n"
     ]
    }
   ],
   "source": [
    "# these are the lyrics of a song from Britney Spears \n",
    "# recommendation system finds similar songs \n",
    "\n",
    "recommend_track(\"My friends say you are so into me\\\n",
    "And that you need me desperately\\\n",
    "They say you say we are so complete\\\n",
    "But I need to hear it straight from you\\\n",
    "If you want me to believe it is true\\\n",
    "I have been waiting for so long it hurts\\\n",
    "I want to hear you say the words, please\\\n",
    "Don't, don't let me be the last to know\\\n",
    "Don't hold back, just let it go\\\n",
    "I need to hear you say\\\n",
    "You need me all the way\\\n",
    "Oh, if you love me so\\\n",
    "Don't let me be the last to know\\\n",
    "Ooh yeah, baby\\\n",
    "Your body language says so much\\\n",
    "Yeah, I feel it in the way you touch\\\n",
    "But 'til you say the words it's not enough\\\n",
    "Come on and tell me you're in love, please\\\n",
    "Don't, don't let me be the last to know\\\n",
    "Don't hold back, just let it go\\\n",
    "I need to hear you say\\\n",
    "You need me all the way\\\n",
    "Oh, if you love me so\\\n",
    "Don't let me be the last to know\\\n",
    "Come on baby, come on darling, ooh yeah\\\n",
    "Come on, let me be the one\\\n",
    "Come on now, oh yeah\\\n",
    "I need to hear you say (I need to hear you say)\\\n",
    "You love me all the way (you love me all the way)\\\n",
    "And I don't want to wait another day\\\n",
    "I want to feel the way you feel\\\n",
    "Oh, come on\\\n",
    "Don't, (don't) don't let me be the last to know (just let me be the one)\\\n",
    "Don't (don't) hold back (hold back), just let it go (just let it go)\\\n",
    "I need to hear you say (I need to hear you say)\\\n",
    "You need me all the way (you need me all the way)\\\n",
    "So, baby, if you love me\\\n",
    "Don't let me be the last to know\")"
   ]
  },
  {
   "cell_type": "code",
   "execution_count": 36,
   "id": "ebfd545f",
   "metadata": {},
   "outputs": [
    {
     "name": "stderr",
     "output_type": "stream",
     "text": [
      "C:\\Users\\haluk\\AppData\\Local\\Temp\\ipykernel_13620\\4053715263.py:19: SettingWithCopyWarning: \n",
      "A value is trying to be set on a copy of a slice from a DataFrame\n",
      "\n",
      "See the caveats in the documentation: https://pandas.pydata.org/pandas-docs/stable/user_guide/indexing.html#returning-a-view-versus-a-copy\n",
      "  df_trk.loc[len_trk] = text_row;\n"
     ]
    },
    {
     "name": "stdout",
     "output_type": "stream",
     "text": [
      "Cos-dist: 0.6101 Van Halen \tYou're No Good\n",
      "Cos-dist: 0.4762 Styx \tRight Away\n",
      "Cos-dist: 0.4056 Tina Turner \tDon't Rush The Good Things\n",
      "Cos-dist: 0.3971 Clash \tKnow Your Rights\n",
      "Cos-dist: 0.3775 Don McLean \tWords And Music\n",
      "Cos-dist: 0.3712 Chaka Khan \tHave A Good Time\n",
      "Cos-dist: 0.3684 Old 97's \tSt. Ignatius\n",
      "Cos-dist: 0.3583 Ella Fitzgerald \tIll Wind\n",
      "Cos-dist: 0.3395 Wanda Jackson \tRight Or Wrong\n",
      "Cos-dist: 0.3379 Diana Ross \tDon't Stop\n"
     ]
    }
   ],
   "source": [
    "recommend_track(\"good musich is right here\")"
   ]
  },
  {
   "cell_type": "code",
   "execution_count": null,
   "id": "6e9d54e3",
   "metadata": {},
   "outputs": [],
   "source": []
  }
 ],
 "metadata": {
  "kernelspec": {
   "display_name": "Python 3 (ipykernel)",
   "language": "python",
   "name": "python3"
  },
  "language_info": {
   "codemirror_mode": {
    "name": "ipython",
    "version": 3
   },
   "file_extension": ".py",
   "mimetype": "text/x-python",
   "name": "python",
   "nbconvert_exporter": "python",
   "pygments_lexer": "ipython3",
   "version": "3.11.5"
  }
 },
 "nbformat": 4,
 "nbformat_minor": 5
}
